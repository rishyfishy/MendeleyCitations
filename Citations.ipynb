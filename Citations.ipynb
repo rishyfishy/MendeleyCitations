{
 "cells": [
  {
   "cell_type": "code",
   "execution_count": 74,
   "metadata": {},
   "outputs": [],
   "source": [
    "import numpy as np\n",
    "men = open(\"mendeley.txt\", encoding='utf8')\n",
    "menText = men.read()\n",
    "menLines = menText.splitlines()\n",
    "\n"
   ]
  },
  {
   "cell_type": "code",
   "execution_count": 75,
   "metadata": {},
   "outputs": [],
   "source": [
    "word = open(\"wordReferences.txt\", encoding='utf8')\n",
    "wordText = word.read()\n",
    "wordLines = wordText.splitlines()\n",
    "\n"
   ]
  },
  {
   "cell_type": "code",
   "execution_count": 76,
   "metadata": {},
   "outputs": [
    {
     "output_type": "execute_result",
     "data": {
      "text/plain": [
       "'Oct. 29, 2012, di: 10.1039/c2nr32201c.'"
      ]
     },
     "metadata": {},
     "execution_count": 76
    }
   ],
   "source": [
    "mystring = 'Oct. 29, 2012, di: 10.1039/c2nr32201c.'\n",
    "mystring"
   ]
  },
  {
   "cell_type": "code",
   "execution_count": 77,
   "metadata": {},
   "outputs": [
    {
     "output_type": "stream",
     "name": "stdout",
     "text": [
      "131\n215\n"
     ]
    }
   ],
   "source": [
    "def findDOI(wordLine):\n",
    "    'Extract a doi from a citation in string format'\n",
    "    doiIndex = wordLine.find('doi:')\n",
    "\n",
    "    if(doiIndex!= -1):\n",
    "        doi = wordLine[doiIndex+5:-1]\n",
    "    else:\n",
    "        doi =''\n",
    "    return doi\n",
    "\n",
    "\n",
    "dois=[]                         #List of DOIs from Word  \n",
    "for citation in wordLines:\n",
    "    doi = findDOI(citation)\n",
    "    if(len(doi)>0):             #only counts citations where DOI is present\n",
    "        dois.append(doi)\n",
    "print(len(dois))\n",
    "print (len(menLines))"
   ]
  },
  {
   "cell_type": "code",
   "execution_count": 79,
   "metadata": {},
   "outputs": [
    {
     "output_type": "stream",
     "name": "stdout",
     "text": [
      "2\n85\n"
     ]
    }
   ],
   "source": [
    "removeCount=0\n",
    "for i in range(len(dois)-1,-1,-1):\n",
    "    doi = dois[i]\n",
    "    for j in range(len(menLines)-1,-1,-1):\n",
    "        if (menLines[j].find(doi)!=-1):\n",
    "            menLines.pop(j)\n",
    "            dois.pop(i)\n",
    "            removeCount+=1\n",
    "            \n",
    "print(len(dois))\n",
    "print (len(menLines))       \n",
    "#Menlines now only has DOIS that haven't been read, or citations without dois"
   ]
  },
  {
   "cell_type": "code",
   "execution_count": 80,
   "metadata": {},
   "outputs": [
    {
     "output_type": "execute_result",
     "data": {
      "text/plain": [
       "['10.1093/oxfordjournals.jmicro.a023598',\n",
       " '10.1093/oxfordjournals.jmicro.a023598']"
      ]
     },
     "metadata": {},
     "execution_count": 80
    }
   ],
   "source": [
    "dois"
   ]
  },
  {
   "cell_type": "code",
   "execution_count": null,
   "metadata": {},
   "outputs": [],
   "source": []
  }
 ],
 "metadata": {
  "kernelspec": {
   "display_name": "Python 3",
   "language": "python",
   "name": "python3"
  },
  "language_info": {
   "codemirror_mode": {
    "name": "ipython",
    "version": 3
   },
   "file_extension": ".py",
   "mimetype": "text/x-python",
   "name": "python",
   "nbconvert_exporter": "python",
   "pygments_lexer": "ipython3",
   "version": "3.8.3-final"
  }
 },
 "nbformat": 4,
 "nbformat_minor": 4
}